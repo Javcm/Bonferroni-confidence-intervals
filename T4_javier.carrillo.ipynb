{
 "cells": [
  {
   "cell_type": "code",
   "execution_count": 2,
   "metadata": {
    "colab": {
     "base_uri": "https://localhost:8080/",
     "height": 1000
    },
    "colab_type": "code",
    "id": "nkhFYbmJYi24",
    "outputId": "f12fcd6b-8add-4aff-feb5-31c43e7971b1"
   },
   "outputs": [
    {
     "name": "stdout",
     "output_type": "stream",
     "text": [
      "Reading package lists... Done\n",
      "Building dependency tree       \n",
      "Reading state information... Done\n",
      "The following package was automatically installed and is no longer required:\n",
      "  libnvidia-common-430\n",
      "Use 'sudo apt autoremove' to remove it.\n",
      "The following additional packages will be installed:\n",
      "  fonts-droid-fallback fonts-lmodern fonts-noto-mono libcupsfilters1\n",
      "  libcupsimage2 libgs9 libgs9-common libijs-0.35 libjbig2dec0 libkpathsea6\n",
      "  libpotrace0 libptexenc1 libsynctex1 libtexlua52 libtexluajit2 libzzip-0-13\n",
      "  lmodern poppler-data t1utils tex-common texlive-base texlive-binaries\n",
      "  texlive-latex-base\n",
      "Suggested packages:\n",
      "  fonts-noto poppler-utils ghostscript fonts-japanese-mincho\n",
      "  | fonts-ipafont-mincho fonts-japanese-gothic | fonts-ipafont-gothic\n",
      "  fonts-arphic-ukai fonts-arphic-uming fonts-nanum debhelper gv\n",
      "  | postscript-viewer perl-tk xpdf-reader | pdf-viewer texlive-latex-base-doc\n",
      "  texlive-latex-recommended-doc texlive-pstricks\n",
      "The following NEW packages will be installed:\n",
      "  fonts-droid-fallback fonts-lmodern fonts-noto-mono libcupsfilters1\n",
      "  libcupsimage2 libgs9 libgs9-common libijs-0.35 libjbig2dec0 libkpathsea6\n",
      "  libpotrace0 libptexenc1 libsynctex1 libtexlua52 libtexluajit2 libzzip-0-13\n",
      "  lmodern poppler-data t1utils tex-common texlive-base texlive-binaries\n",
      "  texlive-latex-base texlive-latex-recommended\n",
      "0 upgraded, 24 newly installed, 0 to remove and 25 not upgraded.\n",
      "Need to get 68.4 MB of archives.\n",
      "After this operation, 223 MB of additional disk space will be used.\n",
      "Get:1 http://archive.ubuntu.com/ubuntu bionic/main amd64 fonts-droid-fallback all 1:6.0.1r16-1.1 [1,805 kB]\n",
      "Get:2 http://archive.ubuntu.com/ubuntu bionic/main amd64 poppler-data all 0.4.8-2 [1,479 kB]\n",
      "Get:3 http://archive.ubuntu.com/ubuntu bionic/main amd64 tex-common all 6.09 [33.0 kB]\n",
      "Get:4 http://archive.ubuntu.com/ubuntu bionic/main amd64 fonts-lmodern all 2.004.5-3 [4,551 kB]\n",
      "Get:5 http://archive.ubuntu.com/ubuntu bionic/main amd64 fonts-noto-mono all 20171026-2 [75.5 kB]\n",
      "Get:6 http://archive.ubuntu.com/ubuntu bionic-updates/main amd64 libcupsfilters1 amd64 1.20.2-0ubuntu3.1 [108 kB]\n",
      "Get:7 http://archive.ubuntu.com/ubuntu bionic-updates/main amd64 libcupsimage2 amd64 2.2.7-1ubuntu2.7 [18.6 kB]\n",
      "Get:8 http://archive.ubuntu.com/ubuntu bionic/main amd64 libijs-0.35 amd64 0.35-13 [15.5 kB]\n",
      "Get:9 http://archive.ubuntu.com/ubuntu bionic/main amd64 libjbig2dec0 amd64 0.13-6 [55.9 kB]\n",
      "Get:10 http://archive.ubuntu.com/ubuntu bionic-updates/main amd64 libgs9-common all 9.26~dfsg+0-0ubuntu0.18.04.12 [5,092 kB]\n",
      "Get:11 http://archive.ubuntu.com/ubuntu bionic-updates/main amd64 libgs9 amd64 9.26~dfsg+0-0ubuntu0.18.04.12 [2,264 kB]\n",
      "Get:12 http://archive.ubuntu.com/ubuntu bionic-updates/main amd64 libkpathsea6 amd64 2017.20170613.44572-8ubuntu0.1 [54.9 kB]\n",
      "Get:13 http://archive.ubuntu.com/ubuntu bionic/main amd64 libpotrace0 amd64 1.14-2 [17.4 kB]\n",
      "Get:14 http://archive.ubuntu.com/ubuntu bionic-updates/main amd64 libptexenc1 amd64 2017.20170613.44572-8ubuntu0.1 [34.5 kB]\n",
      "Get:15 http://archive.ubuntu.com/ubuntu bionic-updates/main amd64 libsynctex1 amd64 2017.20170613.44572-8ubuntu0.1 [41.4 kB]\n",
      "Get:16 http://archive.ubuntu.com/ubuntu bionic-updates/main amd64 libtexlua52 amd64 2017.20170613.44572-8ubuntu0.1 [91.2 kB]\n",
      "Get:17 http://archive.ubuntu.com/ubuntu bionic-updates/main amd64 libtexluajit2 amd64 2017.20170613.44572-8ubuntu0.1 [230 kB]\n",
      "Get:18 http://archive.ubuntu.com/ubuntu bionic-updates/main amd64 libzzip-0-13 amd64 0.13.62-3.1ubuntu0.18.04.1 [26.0 kB]\n",
      "Get:19 http://archive.ubuntu.com/ubuntu bionic/main amd64 lmodern all 2.004.5-3 [9,631 kB]\n",
      "Get:20 http://archive.ubuntu.com/ubuntu bionic/main amd64 t1utils amd64 1.41-2 [56.0 kB]\n",
      "Get:21 http://archive.ubuntu.com/ubuntu bionic-updates/main amd64 texlive-binaries amd64 2017.20170613.44572-8ubuntu0.1 [8,179 kB]\n",
      "Get:22 http://archive.ubuntu.com/ubuntu bionic/main amd64 texlive-base all 2017.20180305-1 [18.7 MB]\n",
      "Get:23 http://archive.ubuntu.com/ubuntu bionic/main amd64 texlive-latex-base all 2017.20180305-1 [951 kB]\n",
      "Get:24 http://archive.ubuntu.com/ubuntu bionic/main amd64 texlive-latex-recommended all 2017.20180305-1 [14.9 MB]\n",
      "Fetched 68.4 MB in 4s (18.1 MB/s)\n",
      "debconf: unable to initialize frontend: Dialog\n",
      "debconf: (No usable dialog-like program is installed, so the dialog based frontend cannot be used. at /usr/share/perl5/Debconf/FrontEnd/Dialog.pm line 76, <> line 24.)\n",
      "debconf: falling back to frontend: Readline\n",
      "debconf: unable to initialize frontend: Readline\n",
      "debconf: (This frontend requires a controlling tty.)\n",
      "debconf: falling back to frontend: Teletype\n",
      "dpkg-preconfigure: unable to re-open stdin: \n",
      "Selecting previously unselected package fonts-droid-fallback.\n",
      "(Reading database ... 134443 files and directories currently installed.)\n",
      "Preparing to unpack .../00-fonts-droid-fallback_1%3a6.0.1r16-1.1_all.deb ...\n",
      "Unpacking fonts-droid-fallback (1:6.0.1r16-1.1) ...\n",
      "Selecting previously unselected package poppler-data.\n",
      "Preparing to unpack .../01-poppler-data_0.4.8-2_all.deb ...\n",
      "Unpacking poppler-data (0.4.8-2) ...\n",
      "Selecting previously unselected package tex-common.\n",
      "Preparing to unpack .../02-tex-common_6.09_all.deb ...\n",
      "Unpacking tex-common (6.09) ...\n",
      "Selecting previously unselected package fonts-lmodern.\n",
      "Preparing to unpack .../03-fonts-lmodern_2.004.5-3_all.deb ...\n",
      "Unpacking fonts-lmodern (2.004.5-3) ...\n",
      "Selecting previously unselected package fonts-noto-mono.\n",
      "Preparing to unpack .../04-fonts-noto-mono_20171026-2_all.deb ...\n",
      "Unpacking fonts-noto-mono (20171026-2) ...\n",
      "Selecting previously unselected package libcupsfilters1:amd64.\n",
      "Preparing to unpack .../05-libcupsfilters1_1.20.2-0ubuntu3.1_amd64.deb ...\n",
      "Unpacking libcupsfilters1:amd64 (1.20.2-0ubuntu3.1) ...\n",
      "Selecting previously unselected package libcupsimage2:amd64.\n",
      "Preparing to unpack .../06-libcupsimage2_2.2.7-1ubuntu2.7_amd64.deb ...\n",
      "Unpacking libcupsimage2:amd64 (2.2.7-1ubuntu2.7) ...\n",
      "Selecting previously unselected package libijs-0.35:amd64.\n",
      "Preparing to unpack .../07-libijs-0.35_0.35-13_amd64.deb ...\n",
      "Unpacking libijs-0.35:amd64 (0.35-13) ...\n",
      "Selecting previously unselected package libjbig2dec0:amd64.\n",
      "Preparing to unpack .../08-libjbig2dec0_0.13-6_amd64.deb ...\n",
      "Unpacking libjbig2dec0:amd64 (0.13-6) ...\n",
      "Selecting previously unselected package libgs9-common.\n",
      "Preparing to unpack .../09-libgs9-common_9.26~dfsg+0-0ubuntu0.18.04.12_all.deb ...\n",
      "Unpacking libgs9-common (9.26~dfsg+0-0ubuntu0.18.04.12) ...\n",
      "Selecting previously unselected package libgs9:amd64.\n",
      "Preparing to unpack .../10-libgs9_9.26~dfsg+0-0ubuntu0.18.04.12_amd64.deb ...\n",
      "Unpacking libgs9:amd64 (9.26~dfsg+0-0ubuntu0.18.04.12) ...\n",
      "Selecting previously unselected package libkpathsea6:amd64.\n",
      "Preparing to unpack .../11-libkpathsea6_2017.20170613.44572-8ubuntu0.1_amd64.deb ...\n",
      "Unpacking libkpathsea6:amd64 (2017.20170613.44572-8ubuntu0.1) ...\n",
      "Selecting previously unselected package libpotrace0.\n",
      "Preparing to unpack .../12-libpotrace0_1.14-2_amd64.deb ...\n",
      "Unpacking libpotrace0 (1.14-2) ...\n",
      "Selecting previously unselected package libptexenc1:amd64.\n",
      "Preparing to unpack .../13-libptexenc1_2017.20170613.44572-8ubuntu0.1_amd64.deb ...\n",
      "Unpacking libptexenc1:amd64 (2017.20170613.44572-8ubuntu0.1) ...\n",
      "Selecting previously unselected package libsynctex1:amd64.\n",
      "Preparing to unpack .../14-libsynctex1_2017.20170613.44572-8ubuntu0.1_amd64.deb ...\n",
      "Unpacking libsynctex1:amd64 (2017.20170613.44572-8ubuntu0.1) ...\n",
      "Selecting previously unselected package libtexlua52:amd64.\n",
      "Preparing to unpack .../15-libtexlua52_2017.20170613.44572-8ubuntu0.1_amd64.deb ...\n",
      "Unpacking libtexlua52:amd64 (2017.20170613.44572-8ubuntu0.1) ...\n",
      "Selecting previously unselected package libtexluajit2:amd64.\n",
      "Preparing to unpack .../16-libtexluajit2_2017.20170613.44572-8ubuntu0.1_amd64.deb ...\n",
      "Unpacking libtexluajit2:amd64 (2017.20170613.44572-8ubuntu0.1) ...\n",
      "Selecting previously unselected package libzzip-0-13:amd64.\n",
      "Preparing to unpack .../17-libzzip-0-13_0.13.62-3.1ubuntu0.18.04.1_amd64.deb ...\n",
      "Unpacking libzzip-0-13:amd64 (0.13.62-3.1ubuntu0.18.04.1) ...\n",
      "Selecting previously unselected package lmodern.\n",
      "Preparing to unpack .../18-lmodern_2.004.5-3_all.deb ...\n",
      "Unpacking lmodern (2.004.5-3) ...\n",
      "Selecting previously unselected package t1utils.\n",
      "Preparing to unpack .../19-t1utils_1.41-2_amd64.deb ...\n",
      "Unpacking t1utils (1.41-2) ...\n",
      "Selecting previously unselected package texlive-binaries.\n",
      "Preparing to unpack .../20-texlive-binaries_2017.20170613.44572-8ubuntu0.1_amd64.deb ...\n",
      "Unpacking texlive-binaries (2017.20170613.44572-8ubuntu0.1) ...\n",
      "Selecting previously unselected package texlive-base.\n",
      "Preparing to unpack .../21-texlive-base_2017.20180305-1_all.deb ...\n",
      "Unpacking texlive-base (2017.20180305-1) ...\n",
      "Selecting previously unselected package texlive-latex-base.\n",
      "Preparing to unpack .../22-texlive-latex-base_2017.20180305-1_all.deb ...\n",
      "Unpacking texlive-latex-base (2017.20180305-1) ...\n",
      "Selecting previously unselected package texlive-latex-recommended.\n",
      "Preparing to unpack .../23-texlive-latex-recommended_2017.20180305-1_all.deb ...\n",
      "Unpacking texlive-latex-recommended (2017.20180305-1) ...\n",
      "Setting up libgs9-common (9.26~dfsg+0-0ubuntu0.18.04.12) ...\n",
      "Setting up libkpathsea6:amd64 (2017.20170613.44572-8ubuntu0.1) ...\n",
      "Setting up libtexlua52:amd64 (2017.20170613.44572-8ubuntu0.1) ...\n",
      "Setting up fonts-droid-fallback (1:6.0.1r16-1.1) ...\n",
      "Setting up libsynctex1:amd64 (2017.20170613.44572-8ubuntu0.1) ...\n",
      "Setting up libptexenc1:amd64 (2017.20170613.44572-8ubuntu0.1) ...\n",
      "Setting up tex-common (6.09) ...\n",
      "debconf: unable to initialize frontend: Dialog\n",
      "debconf: (No usable dialog-like program is installed, so the dialog based frontend cannot be used. at /usr/share/perl5/Debconf/FrontEnd/Dialog.pm line 76.)\n",
      "debconf: falling back to frontend: Readline\n",
      "update-language: texlive-base not installed and configured, doing nothing!\n",
      "Setting up poppler-data (0.4.8-2) ...\n",
      "Setting up fonts-noto-mono (20171026-2) ...\n",
      "Setting up libcupsfilters1:amd64 (1.20.2-0ubuntu3.1) ...\n",
      "Setting up libcupsimage2:amd64 (2.2.7-1ubuntu2.7) ...\n",
      "Setting up libjbig2dec0:amd64 (0.13-6) ...\n",
      "Setting up t1utils (1.41-2) ...\n",
      "Setting up libijs-0.35:amd64 (0.35-13) ...\n",
      "Setting up libpotrace0 (1.14-2) ...\n",
      "Setting up libzzip-0-13:amd64 (0.13.62-3.1ubuntu0.18.04.1) ...\n",
      "Setting up libgs9:amd64 (9.26~dfsg+0-0ubuntu0.18.04.12) ...\n",
      "Setting up libtexluajit2:amd64 (2017.20170613.44572-8ubuntu0.1) ...\n",
      "Setting up fonts-lmodern (2.004.5-3) ...\n",
      "Setting up texlive-binaries (2017.20170613.44572-8ubuntu0.1) ...\n",
      "update-alternatives: using /usr/bin/xdvi-xaw to provide /usr/bin/xdvi.bin (xdvi.bin) in auto mode\n",
      "update-alternatives: using /usr/bin/bibtex.original to provide /usr/bin/bibtex (bibtex) in auto mode\n",
      "Setting up texlive-base (2017.20180305-1) ...\n",
      "mktexlsr: Updating /var/lib/texmf/ls-R-TEXLIVEDIST... \n",
      "mktexlsr: Updating /var/lib/texmf/ls-R-TEXMFMAIN... \n",
      "mktexlsr: Updating /var/lib/texmf/ls-R... \n",
      "mktexlsr: Done.\n",
      "tl-paper: setting paper size for dvips to a4: /var/lib/texmf/dvips/config/config-paper.ps\n",
      "tl-paper: setting paper size for dvipdfmx to a4: /var/lib/texmf/dvipdfmx/dvipdfmx-paper.cfg\n",
      "tl-paper: setting paper size for xdvi to a4: /var/lib/texmf/xdvi/XDvi-paper\n",
      "tl-paper: setting paper size for pdftex to a4: /var/lib/texmf/tex/generic/config/pdftexconfig.tex\n",
      "debconf: unable to initialize frontend: Dialog\n",
      "debconf: (No usable dialog-like program is installed, so the dialog based frontend cannot be used. at /usr/share/perl5/Debconf/FrontEnd/Dialog.pm line 76.)\n",
      "debconf: falling back to frontend: Readline\n",
      "Setting up texlive-latex-base (2017.20180305-1) ...\n",
      "Setting up lmodern (2.004.5-3) ...\n",
      "Setting up texlive-latex-recommended (2017.20180305-1) ...\n",
      "Processing triggers for libc-bin (2.27-3ubuntu1) ...\n",
      "/sbin/ldconfig.real: /usr/local/lib/python3.6/dist-packages/ideep4py/lib/libmkldnn.so.0 is not a symbolic link\n",
      "\n",
      "Processing triggers for man-db (2.8.3-2ubuntu0.1) ...\n",
      "Processing triggers for fontconfig (2.12.6-0ubuntu2) ...\n",
      "Processing triggers for mime-support (3.60ubuntu1) ...\n",
      "Processing triggers for tex-common (6.09) ...\n",
      "debconf: unable to initialize frontend: Dialog\n",
      "debconf: (No usable dialog-like program is installed, so the dialog based frontend cannot be used. at /usr/share/perl5/Debconf/FrontEnd/Dialog.pm line 76.)\n",
      "debconf: falling back to frontend: Readline\n",
      "Running updmap-sys. This may take some time... done.\n",
      "Running mktexlsr /var/lib/texmf ... done.\n",
      "Building format(s) --all.\n",
      "\tThis may take some time... done.\n",
      "Reading package lists... Done\n",
      "Building dependency tree       \n",
      "Reading state information... Done\n",
      "The following package was automatically installed and is no longer required:\n",
      "  libnvidia-common-430\n",
      "Use 'sudo apt autoremove' to remove it.\n",
      "The following additional packages will be installed:\n",
      "  fonts-texgyre ghostscript gsfonts tex-gyre tipa\n",
      "Suggested packages:\n",
      "  ghostscript-x texlive-fonts-recommended-doc\n",
      "The following NEW packages will be installed:\n",
      "  dvipng fonts-texgyre ghostscript gsfonts tex-gyre texlive-fonts-recommended\n",
      "  tipa\n",
      "0 upgraded, 7 newly installed, 0 to remove and 25 not upgraded.\n",
      "Need to get 25.2 MB of archives.\n",
      "After this operation, 67.7 MB of additional disk space will be used.\n",
      "Get:1 http://archive.ubuntu.com/ubuntu bionic-updates/main amd64 ghostscript amd64 9.26~dfsg+0-0ubuntu0.18.04.12 [50.9 kB]\n",
      "Get:2 http://archive.ubuntu.com/ubuntu bionic/universe amd64 dvipng amd64 1.15-1 [78.2 kB]\n",
      "Get:3 http://archive.ubuntu.com/ubuntu bionic/universe amd64 fonts-texgyre all 20160520-1 [8,761 kB]\n",
      "Get:4 http://archive.ubuntu.com/ubuntu bionic/main amd64 gsfonts all 1:8.11+urwcyr1.0.7~pre44-4.4 [3,120 kB]\n",
      "Get:5 http://archive.ubuntu.com/ubuntu bionic/universe amd64 tex-gyre all 20160520-1 [4,998 kB]\n",
      "Get:6 http://archive.ubuntu.com/ubuntu bionic/universe amd64 texlive-fonts-recommended all 2017.20180305-1 [5,262 kB]\n",
      "Get:7 http://archive.ubuntu.com/ubuntu bionic/universe amd64 tipa all 2:1.3-20 [2,978 kB]\n",
      "Fetched 25.2 MB in 2s (15.8 MB/s)\n",
      "debconf: unable to initialize frontend: Dialog\n",
      "debconf: (No usable dialog-like program is installed, so the dialog based frontend cannot be used. at /usr/share/perl5/Debconf/FrontEnd/Dialog.pm line 76, <> line 7.)\n",
      "debconf: falling back to frontend: Readline\n",
      "debconf: unable to initialize frontend: Readline\n",
      "debconf: (This frontend requires a controlling tty.)\n",
      "debconf: falling back to frontend: Teletype\n",
      "dpkg-preconfigure: unable to re-open stdin: \n",
      "Selecting previously unselected package ghostscript.\n",
      "(Reading database ... 141777 files and directories currently installed.)\n",
      "Preparing to unpack .../0-ghostscript_9.26~dfsg+0-0ubuntu0.18.04.12_amd64.deb ...\n",
      "Unpacking ghostscript (9.26~dfsg+0-0ubuntu0.18.04.12) ...\n",
      "Selecting previously unselected package dvipng.\n",
      "Preparing to unpack .../1-dvipng_1.15-1_amd64.deb ...\n",
      "Unpacking dvipng (1.15-1) ...\n",
      "Selecting previously unselected package fonts-texgyre.\n",
      "Preparing to unpack .../2-fonts-texgyre_20160520-1_all.deb ...\n",
      "Unpacking fonts-texgyre (20160520-1) ...\n",
      "Selecting previously unselected package gsfonts.\n",
      "Preparing to unpack .../3-gsfonts_1%3a8.11+urwcyr1.0.7~pre44-4.4_all.deb ...\n",
      "Unpacking gsfonts (1:8.11+urwcyr1.0.7~pre44-4.4) ...\n",
      "Selecting previously unselected package tex-gyre.\n",
      "Preparing to unpack .../4-tex-gyre_20160520-1_all.deb ...\n",
      "Unpacking tex-gyre (20160520-1) ...\n",
      "Selecting previously unselected package texlive-fonts-recommended.\n",
      "Preparing to unpack .../5-texlive-fonts-recommended_2017.20180305-1_all.deb ...\n",
      "Unpacking texlive-fonts-recommended (2017.20180305-1) ...\n",
      "Selecting previously unselected package tipa.\n",
      "Preparing to unpack .../6-tipa_2%3a1.3-20_all.deb ...\n",
      "Unpacking tipa (2:1.3-20) ...\n",
      "Setting up gsfonts (1:8.11+urwcyr1.0.7~pre44-4.4) ...\n",
      "Setting up tex-gyre (20160520-1) ...\n",
      "Setting up tipa (2:1.3-20) ...\n",
      "Regenerating '/var/lib/texmf/fmtutil.cnf-DEBIAN'... done.\n",
      "Regenerating '/var/lib/texmf/fmtutil.cnf-TEXLIVEDIST'... done.\n",
      "update-fmtutil has updated the following file(s):\n",
      "\t/var/lib/texmf/fmtutil.cnf-DEBIAN\n",
      "\t/var/lib/texmf/fmtutil.cnf-TEXLIVEDIST\n",
      "If you want to activate the changes in the above file(s),\n",
      "you should run fmtutil-sys or fmtutil.\n",
      "Setting up ghostscript (9.26~dfsg+0-0ubuntu0.18.04.12) ...\n",
      "Setting up fonts-texgyre (20160520-1) ...\n",
      "Setting up texlive-fonts-recommended (2017.20180305-1) ...\n",
      "Setting up dvipng (1.15-1) ...\n",
      "Processing triggers for fontconfig (2.12.6-0ubuntu2) ...\n",
      "Processing triggers for tex-common (6.09) ...\n",
      "debconf: unable to initialize frontend: Dialog\n",
      "debconf: (No usable dialog-like program is installed, so the dialog based frontend cannot be used. at /usr/share/perl5/Debconf/FrontEnd/Dialog.pm line 76.)\n",
      "debconf: falling back to frontend: Readline\n",
      "Running mktexlsr. This may take some time... done.\n",
      "Running updmap-sys. This may take some time... done.\n",
      "Running mktexlsr /var/lib/texmf ... done.\n",
      "Processing triggers for man-db (2.8.3-2ubuntu0.1) ...\n",
      "--2020-02-27 20:05:39--  http://mirrors.ctan.org/macros/latex/contrib/type1cm.zip\n",
      "Resolving mirrors.ctan.org (mirrors.ctan.org)... 5.35.249.60\n",
      "Connecting to mirrors.ctan.org (mirrors.ctan.org)|5.35.249.60|:80... connected.\n",
      "HTTP request sent, awaiting response... 302 Found\n",
      "Location: http://mirrors.rit.edu/CTAN/macros/latex/contrib/type1cm.zip [following]\n",
      "--2020-02-27 20:05:39--  http://mirrors.rit.edu/CTAN/macros/latex/contrib/type1cm.zip\n",
      "Resolving mirrors.rit.edu (mirrors.rit.edu)... 129.21.171.72, 2620:8d:8000:15:225:90ff:fefd:344c\n",
      "Connecting to mirrors.rit.edu (mirrors.rit.edu)|129.21.171.72|:80... connected.\n",
      "HTTP request sent, awaiting response... 200 OK\n",
      "Length: 328566 (321K) [application/zip]\n",
      "Saving to: ‘type1cm.zip’\n",
      "\n",
      "type1cm.zip         100%[===================>] 320.87K  --.-KB/s    in 0.1s    \n",
      "\n",
      "2020-02-27 20:05:39 (2.19 MB/s) - ‘type1cm.zip’ saved [328566/328566]\n",
      "\n",
      "Archive:  type1cm.zip\n",
      "   creating: /tmp/type1cm/type1cm/\n",
      "  inflating: /tmp/type1cm/type1cm/type1cm.fdd  \n",
      "  inflating: /tmp/type1cm/type1cm/type1cm.ins  \n",
      "  inflating: /tmp/type1cm/type1cm/type1cm.txt  \n",
      "  inflating: /tmp/type1cm/type1cm/type1cm-doc.pdf  \n",
      "  inflating: /tmp/type1cm/type1cm/type1cm-doc.tex  \n",
      "This is pdfTeX, Version 3.14159265-2.6-1.40.18 (TeX Live 2017/Debian) (preloaded format=latex)\n",
      " restricted \\write18 enabled.\n",
      "entering extended mode\n",
      "(./type1cm.ins\n",
      "LaTeX2e <2017-04-15>\n",
      "Babel <3.18> and hyphenation patterns for 3 language(s) loaded.\n",
      "(/usr/share/texlive/texmf-dist/tex/latex/base/docstrip.tex\n",
      "Utility: `docstrip' 2.5e <2014/09/29>\n",
      "English documentation    <2017/03/13>\n",
      "\n",
      "**********************************************************\n",
      "* This program converts documented macro-files into fast *\n",
      "* loadable files by stripping off (nearly) all comments! *\n",
      "**********************************************************\n",
      "\n",
      "********************************************************\n",
      "* No Configuration file found, using default settings. *\n",
      "********************************************************\n",
      "\n",
      "(./type1cm.ins\n",
      "\n",
      "Generating file(s) ./type1cm.sty \n",
      "\n",
      "Processing file type1cm.fdd (package,ams) -> type1cm.sty\n",
      "Lines  processed: 410\n",
      "Comments removed: 25\n",
      "Comments  passed: 7\n",
      "Codelines passed: 263\n",
      "\n",
      ") ) )\n",
      "No pages of output.\n",
      "Transcript written on type1cm.log.\n",
      "texhash: Updating /usr/local/share/texmf/ls-R... \n",
      "texhash: Updating /var/lib/texmf/ls-R-TEXLIVEDIST... \n",
      "texhash: Updating /var/lib/texmf/ls-R-TEXMFMAIN... \n",
      "texhash: Updating /var/lib/texmf/ls-R... \n",
      "texhash: Done.\n"
     ]
    }
   ],
   "source": [
    "! sudo apt-get install texlive-latex-recommended #1\n",
    "! sudo apt-get install dvipng texlive-fonts-recommended #2\n",
    "! wget http://mirrors.ctan.org/macros/latex/contrib/type1cm.zip #3\n",
    "! unzip type1cm.zip -d /tmp/type1cm #4\n",
    "! cd /tmp/type1cm/type1cm/ && sudo latex type1cm.ins  #5\n",
    "! sudo mkdir /usr/share/texmf/tex/latex/type1cm #6\n",
    "! sudo cp /tmp/type1cm/type1cm/type1cm.sty /usr/share/texmf/tex/latex/type1cm #7\n",
    "! sudo texhash #8"
   ]
  },
  {
   "cell_type": "code",
   "execution_count": 2,
   "metadata": {
    "colab": {
     "base_uri": "https://localhost:8080/",
     "height": 74,
     "resources": {
      "http://localhost:8080/nbextensions/google.colab/files.js": {
       "data": "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",
       "headers": [
        [
         "content-type",
         "application/javascript"
        ]
       ],
       "ok": true,
       "status": 200,
       "status_text": ""
      }
     }
    },
    "colab_type": "code",
    "id": "kMBmO8vpas4g",
    "outputId": "41d2667b-9136-4d20-ce60-5cdd5dc04068"
   },
   "outputs": [],
   "source": [
    "import matplotlib.pyplot as plt\n",
    "import numpy as np\n",
    "from numpy import linalg as LA\n",
    "from scipy.stats import f,t,chi2,norm\n",
    "from matplotlib import rc\n",
    "#rc('font',**{'family':'sans-serif','sans-serif':['Helvetica']})\n",
    "#rc('text', usetex=True)\n",
    "#plt.rc('text', usetex=True)\n",
    "#Para montar drive en colab\n",
    "#from google.colab import drive\n",
    "#from google.colab import files\n",
    "#drive.mount('drive')\n",
    "#import io\n",
    "#import warnings\n",
    "#warnings.filterwarnings('ignore')\n",
    "#uploaded = files.upload()"
   ]
  },
  {
   "cell_type": "code",
   "execution_count": 13,
   "metadata": {
    "colab": {
     "base_uri": "https://localhost:8080/",
     "height": 34
    },
    "colab_type": "code",
    "id": "jbVSx6_eYnZl",
    "outputId": "8146a82c-57cd-404b-c3ce-e9e194bf88e0"
   },
   "outputs": [
    {
     "name": "stdout",
     "output_type": "stream",
     "text": [
      "0.03251814028486967 0.18032786885245905\n"
     ]
    }
   ],
   "source": [
    "#Ejercicio 2\n",
    "x=np.array([[2,12],[8,9],[6,9],[8,10]])\n",
    "mu = np.array([np.average(x[:,0][:]),np.average(x[:,1][:])])\n",
    "mu_0=np.array([7,11])\n",
    "n = np.shape(x)[0]\n",
    "Sigma = np.cov(x.T)*(n-1)/n\n",
    "s=0\n",
    "for i in range(n):\n",
    "  s+=np.array(np.array([x[i]])-mu).T@np.array(np.array([x[i]])-mu)\n",
    "s=s/n\n",
    "s_0=0\n",
    "for i in range(n):\n",
    "  s_0+=np.array(np.array([x[i]])-mu_0).T@np.array(np.array([x[i]])-mu_0)\n",
    "s_0=s_0/n\n",
    "Lambda=pow(np.linalg.det(s)/np.linalg.det(s_0),n/2)\n",
    "print(Lambda,pow(Lambda,(2/n)))"
   ]
  },
  {
   "cell_type": "code",
   "execution_count": 7,
   "metadata": {
    "colab": {
     "base_uri": "https://localhost:8080/",
     "height": 50
    },
    "colab_type": "code",
    "id": "w28o7UWupAOH",
    "outputId": "ed2352ca-7c66-43a4-a6d2-35c06456645d"
   },
   "outputs": [
    {
     "data": {
      "text/plain": [
       "array([[ 7. , -1.5],\n",
       "       [-1.5,  2.5]])"
      ]
     },
     "execution_count": 7,
     "metadata": {
      "tags": []
     },
     "output_type": "execute_result"
    }
   ],
   "source": [
    "s_0"
   ]
  },
  {
   "cell_type": "code",
   "execution_count": 3,
   "metadata": {
    "colab": {},
    "colab_type": "code",
    "id": "5qR3-oksbRih"
   },
   "outputs": [],
   "source": [
    "#Ejercicio 3\n",
    "Sigma=np.array([[3266.46,1343.97,731.54,1175.50,162.68,238.37],\n",
    "                [1343.97,721.91,324.25,537.35,80.17,117.73],\n",
    "                [731.54,324.25,179.28,281.17,39.15,56.80],\n",
    "                [1175.50,537.35,281.17,474.98,63.73,94.85],\n",
    "                [162.68,80.17,39.15,63.73,9.95,13.88],\n",
    "                [238.37,117.73,56.80,94.85,13.88,21.26]])\n",
    "x_mean = np.array([95.52,164.38,55.69,93.39,17.98,31.13])\n",
    "Sigma_inv = np.linalg.inv(Sigma)\n",
    "eigvalues, eigvectors = LA.eig(Sigma)\n"
   ]
  },
  {
   "cell_type": "code",
   "execution_count": 4,
   "metadata": {},
   "outputs": [
    {
     "data": {
      "text/plain": [
       "(6, 6)"
      ]
     },
     "execution_count": 4,
     "metadata": {},
     "output_type": "execute_result"
    }
   ],
   "source": [
    "np.shape(Sigma)"
   ]
  },
  {
   "cell_type": "code",
   "execution_count": 6,
   "metadata": {
    "colab": {
     "base_uri": "https://localhost:8080/",
     "height": 134
    },
    "colab_type": "code",
    "id": "bdXQOmAs4hhh",
    "outputId": "5ea2c68a-103f-460c-df80-54ec9767ff09"
   },
   "outputs": [
    {
     "name": "stdout",
     "output_type": "stream",
     "text": [
      "Intervalos de confianza simultaneos:\n",
      "x_1: [ 67.321 , 123.719 ]\n",
      "x_2: [ 151.123 , 177.637 ]\n",
      "x_3: [ 49.084 , 62.296 ]\n",
      "x_4: [ 82.637 , 104.143 ]\n",
      "x_5: [ 16.424 , 19.536 ]\n",
      "x_6: [ 28.855 , 33.405 ]\n"
     ]
    }
   ],
   "source": [
    "n = 61\n",
    "p = len(x_mean)\n",
    "alpha = 0.05\n",
    "F = f.ppf(q=1-alpha, dfn=p, dfd=n-p)\n",
    "critical = (((n-1)*p)/(n-p))*F\n",
    "semi1 = np.sqrt(Sigma[0,0])*np.sqrt(critical/n)\n",
    "semi2 = np.sqrt(Sigma[3,3])*np.sqrt(critical/n)\n",
    "mu1 = np.linspace(x_mean[0]-semi1,x_mean[0]+semi1,1000)\n",
    "mu2 = np.linspace(x_mean[3]-2*semi2,x_mean[3]+2*semi2,1000)\n",
    "\n",
    "mu1,mu2 = np.meshgrid(mu1,mu2)\n",
    "theta = np.arctan(eigvectors[:,0][1]/eigvectors[:,0][0])\n",
    "#Inciso a)\n",
    "print(\"Intervalos de confianza simultaneos:\")\n",
    "for i in range(p):\n",
    "  print(\"x_\"+str(i+1)+\":\",\"[\",round(x_mean[i]-np.sqrt(Sigma[i,i])*np.sqrt(critical/n),3),\",\",round(x_mean[i]+np.sqrt(Sigma[i,i])*np.sqrt(critical/n),3),\"]\")"
   ]
  },
  {
   "cell_type": "code",
   "execution_count": 8,
   "metadata": {
    "colab": {
     "base_uri": "https://localhost:8080/",
     "height": 278
    },
    "colab_type": "code",
    "id": "9Won5wL2gjPA",
    "outputId": "d92baa68-06a7-48d1-e7f5-08910da5fa41"
   },
   "outputs": [
    {
     "data": {
      "image/png": "[encoded data removed]",
      "text/plain": [
       "<Figure size 432x288 with 1 Axes>"
      ]
     },
     "metadata": {
      "needs_background": "light"
     },
     "output_type": "display_data"
    }
   ],
   "source": [
    "#Inciso b)\n",
    "\n",
    "cols = np.array([True, False, False,True, False, False])\n",
    "rows = np.array([True, False, False,True, False, False])\n",
    "S_aux=Sigma[cols][:,rows]\n",
    "eig=LA.eig(S_aux)[0]\n",
    "\n",
    "semi1 = np.sqrt(eig[0])*np.sqrt(critical/n)\n",
    "semi2 = np.sqrt(eig[1])*np.sqrt(critical/n)\n",
    "contorno = ((x_mean[0]-mu1)*np.cos(theta) + (x_mean[3]-mu2)*np.sin(theta))**2/semi1**2 + ((x_mean[0]-mu1)*np.sin(theta) - (x_mean[3]-mu2)*np.cos(theta))**2/semi2**2 -1\n",
    "\n",
    "\n",
    "plt.contour(mu1,mu2,contorno,0)\n",
    "plt.plot(x_mean[0], x_mean[3], marker='o', markersize=3, color=\"red\")\n",
    "plt.axis('equal')\n",
    "plt.grid()\n",
    "\n",
    "aux1 = np.sqrt(Sigma[0,0])*np.sqrt(critical/n)\n",
    "aux2 = np.sqrt(Sigma[1,1])*np.sqrt(critical/n)\n",
    "plt.axhline(y=x_mean[3]-aux2,color='red',label=\"Simultaneo\")\n",
    "plt.axhline(y=x_mean[3]+aux2,color='red')\n",
    "plt.axvline(x=x_mean[0]-aux1,color='red')\n",
    "plt.axvline(x=x_mean[0]+aux1,color='red')\n",
    "\n",
    "plt.xlim(x_mean[0]-semi1-3,x_mean[0]+semi1+3)\n",
    "plt.ylim(x_mean[3]-semi1-3,x_mean[3]+semi1+3)  \n",
    "plt.ylabel(\"Weight\")\n",
    "plt.xlabel(\"Girth\")\n",
    "plt.legend(loc=\"best\",fontsize='medium')\n",
    "plt.savefig(\"3.2.png\")\n",
    "plt.show()"
   ]
  },
  {
   "cell_type": "code",
   "execution_count": 9,
   "metadata": {},
   "outputs": [
    {
     "data": {
      "text/plain": [
       "array([[3266.46, 1343.97,  731.54, 1175.5 ,  162.68,  238.37],\n",
       "       [1343.97,  721.91,  324.25,  537.35,   80.17,  117.73],\n",
       "       [ 731.54,  324.25,  179.28,  281.17,   39.15,   56.8 ],\n",
       "       [1175.5 ,  537.35,  281.17,  474.98,   63.73,   94.85],\n",
       "       [ 162.68,   80.17,   39.15,   63.73,    9.95,   13.88],\n",
       "       [ 238.37,  117.73,   56.8 ,   94.85,   13.88,   21.26]])"
      ]
     },
     "execution_count": 9,
     "metadata": {},
     "output_type": "execute_result"
    }
   ],
   "source": [
    "Sigma"
   ]
  },
  {
   "cell_type": "code",
   "execution_count": 10,
   "metadata": {
    "colab": {
     "base_uri": "https://localhost:8080/",
     "height": 134
    },
    "colab_type": "code",
    "id": "mzrcYbJmgmdp",
    "outputId": "67c65a6b-dae2-4ca2-c69d-901be2e12a5d"
   },
   "outputs": [
    {
     "name": "stdout",
     "output_type": "stream",
     "text": [
      "Intervalos de confianza Bonferroni:\n",
      "x_1: [ 75.553 , 115.487 ]\n",
      "x_2: [ 154.993 , 173.767 ]\n",
      "x_3: [ 51.012 , 60.368 ]\n",
      "x_4: [ 85.776 , 101.004 ]\n",
      "x_5: [ 16.878 , 19.082 ]\n",
      "x_6: [ 29.519 , 32.741 ]\n"
     ]
    }
   ],
   "source": [
    "n = 61\n",
    "p = len(x_mean)\n",
    "alpha = 0.05\n",
    "T = t.ppf(q=1-(alpha)/(2*p), df=n-1)\n",
    "#Inciso a)\n",
    "print(\"Intervalos de confianza Bonferroni:\")\n",
    "for i in range(p):\n",
    "  print(\"x_\"+str(i+1)+\":\",\"[\",round(x_mean[i]-np.sqrt(Sigma[i,i]/n)*T,3),\",\",round(x_mean[i]+np.sqrt(Sigma[i,i]/n)*T,3),\"]\")"
   ]
  },
  {
   "cell_type": "code",
   "execution_count": 190,
   "metadata": {
    "colab": {
     "base_uri": "https://localhost:8080/",
     "height": 312
    },
    "colab_type": "code",
    "id": "kGGgiVxwxQee",
    "outputId": "e2a967f0-3497-4ddc-de5c-c7ad58984ab8"
   },
   "outputs": [
    {
     "name": "stdout",
     "output_type": "stream",
     "text": [
      "29.485570953848075 32.77442904615192\n",
      "16.855019357668585 19.104980642331416\n"
     ]
    },
    {
     "data": {
      "image/png": "[encoded data removed]",
      "text/plain": [
       "<Figure size 432x288 with 1 Axes>"
      ]
     },
     "metadata": {
      "tags": []
     },
     "output_type": "display_data"
    }
   ],
   "source": [
    "#Inciso d)\n",
    "contorno = ((x_mean[0]-mu1)*np.cos(theta) + (x_mean[3]-mu2)*np.sin(theta))**2/semi1**2 + ((x_mean[0]-mu1)*np.sin(theta) - (x_mean[3]-mu2)*np.cos(theta))**2/semi2**2 -1\n",
    "\n",
    "plt.contour(mu1,mu2,contorno,0)\n",
    "plt.plot(x_mean[0], x_mean[3], marker='o', markersize=3, color=\"red\")\n",
    "plt.axis('equal')\n",
    "plt.grid()\n",
    "\n",
    "m=6\n",
    "T = -t.ppf(q=1-(alpha)/(2*m), df=n-1)\n",
    "plt.axhline(y=x_mean[3]+np.sqrt(Sigma[3,3]/n)*T,color='#c24a2d',label=\"Bonferroni m=6\")\n",
    "plt.axhline(y=x_mean[3]-np.sqrt(Sigma[3,3]/n)*T,color='#c24a2d')\n",
    "plt.axvline(x=x_mean[0]+np.sqrt(Sigma[0,0]/n)*T,color='#c24a2d')\n",
    "plt.axvline(x=x_mean[0]-np.sqrt(Sigma[0,0]/n)*T,color='#c24a2d')\n",
    "\n",
    "#Inciso e)\n",
    "\n",
    "m=7\n",
    "T = t.ppf(q=(1-alpha/(2*m)), df=n-1)\n",
    "plt.axhline(y=x_mean[3]+np.sqrt(Sigma[3,3]/n)*T,color='#167536',label=\"Bonferroni m=7\")\n",
    "plt.axhline(y=x_mean[3]-np.sqrt(Sigma[3,3]/n)*T,color='#167536')\n",
    "plt.axvline(x=x_mean[0]+np.sqrt(Sigma[0,0]/n)*T,color='#167536')\n",
    "plt.axvline(x=x_mean[0]-np.sqrt(Sigma[0,0]/n)*T,color='#167536')\n",
    "\n",
    "print(x_mean[5]-np.sqrt(Sigma[5,5]/n)*T,x_mean[5]+np.sqrt(Sigma[5,5]/n)*T)\n",
    "print(x_mean[4]-np.sqrt(Sigma[4,4]/n)*T,x_mean[4]+np.sqrt(Sigma[4,4]/n)*T)\n",
    "\n",
    "plt.xlabel(\"Weight\")\n",
    "plt.ylabel(\"Girth\")\n",
    "plt.legend(loc=\"best\",fontsize='medium')\n",
    "plt.savefig(\"3_e.png\")\n",
    "plt.show()"
   ]
  },
  {
   "cell_type": "code",
   "execution_count": 241,
   "metadata": {
    "colab": {
     "base_uri": "https://localhost:8080/",
     "height": 118
    },
    "colab_type": "code",
    "id": "lKp3Qh7QxbY2",
    "outputId": "b7c25ac0-13a9-4477-c538-a0072f1b10bb"
   },
   "outputs": [
    {
     "name": "stdout",
     "output_type": "stream",
     "text": [
      "x_1: [ 69.553 , 121.487 ]\n",
      "x_2: [ 152.173 , 176.587 ]\n",
      "x_3: [ 49.607 , 61.773 ]\n",
      "x_4: [ 83.488 , 103.292 ]\n",
      "x_5: [ 16.547 , 19.413 ]\n",
      "x_6: [ 29.035 , 33.225 ]\n"
     ]
    }
   ],
   "source": [
    "  #Inciso f)\n",
    "n = 61\n",
    "p = len(x_mean)\n",
    "alpha = 0.05\n",
    "ji = chi2.ppf(q=1-alpha,df=p)\n",
    "\n",
    "\n",
    "for i in range(p):\n",
    "  print(\"x_\"+str(i+1)+\":\",\"[\",round(x_mean[i]-np.sqrt(Sigma[i,i])*np.sqrt(ji/n),3),\",\",round(x_mean[i]+np.sqrt(Sigma[i,i])*np.sqrt(ji/n),3),\"]\")\n"
   ]
  },
  {
   "cell_type": "code",
   "execution_count": 161,
   "metadata": {
    "colab": {
     "base_uri": "https://localhost:8080/",
     "height": 278
    },
    "colab_type": "code",
    "id": "W-0HZZ1EM-ot",
    "outputId": "45795c28-4b91-457b-fe05-135c8e86ac67"
   },
   "outputs": [
    {
     "data": {
      "image/png": "[encoded data removed]",
      "text/plain": [
       "<Figure size 432x288 with 1 Axes>"
      ]
     },
     "metadata": {
      "tags": []
     },
     "output_type": "display_data"
    }
   ],
   "source": [
    "#Inciso f.b)\n",
    "\n",
    "semi1 = np.sqrt(Sigma[0,0])*np.sqrt(ji/n)\n",
    "semi2 = np.sqrt(Sigma[3,3])*np.sqrt(ji/n)\n",
    "mu1 = np.linspace(x_mean[0]-semi1,x_mean[0]+semi1,1000)\n",
    "mu2 = np.linspace(x_mean[3]-2*semi2,x_mean[3]+2*semi2,1000)\n",
    "\n",
    "mu1,mu2 = np.meshgrid(mu1,mu2)\n",
    "theta = np.arctan(eigvectors[:,0][1]/eigvectors[:,0][0])\n",
    "\n",
    "\n",
    "semi1 = np.sqrt(eig[0])*np.sqrt(ji/n)\n",
    "semi2 = np.sqrt(eig[1])*np.sqrt(ji/n)\n",
    "contorno = ((x_mean[0]-mu1)*np.cos(theta) + (x_mean[3]-mu2)*np.sin(theta))**2/semi1**2 + ((x_mean[0]-mu1)*np.sin(theta) - (x_mean[3]-mu2)*np.cos(theta))**2/semi2**2 -1\n",
    "\n",
    "\n",
    "plt.contour(mu1,mu2,contorno,0)\n",
    "plt.plot(x_mean[0], x_mean[3], marker='o', markersize=3, color=\"red\")\n",
    "plt.axis('equal')\n",
    "plt.grid()\n",
    "\n",
    "aux1 = np.sqrt(Sigma[0,0])*np.sqrt(ji/n)\n",
    "aux2 = np.sqrt(Sigma[1,1])*np.sqrt(ji/n)\n",
    "plt.axhline(y=x_mean[3]-aux2,color='red',label=\"Simultaneo\")\n",
    "plt.axhline(y=x_mean[3]+aux2,color='red')\n",
    "plt.axvline(x=x_mean[0]-aux1,color='red')\n",
    "plt.axvline(x=x_mean[0]+aux1,color='red')\n",
    "\n",
    "plt.xlim(x_mean[0]-semi1-3,x_mean[0]+semi1+3)\n",
    "plt.ylim(x_mean[3]-semi1-3,x_mean[3]+semi1+3)  \n",
    "plt.ylabel(\"Weight\")\n",
    "plt.xlabel(\"Girth\")\n",
    "plt.legend(loc=\"best\",fontsize='medium')\n",
    "plt.savefig(\"3_f1.png\")\n",
    "plt.show()"
   ]
  },
  {
   "cell_type": "code",
   "execution_count": 162,
   "metadata": {
    "colab": {
     "base_uri": "https://localhost:8080/",
     "height": 396
    },
    "colab_type": "code",
    "id": "89rKW4HKNZJY",
    "outputId": "d26b8d43-09b3-4fd5-bf8e-5aaee29287de"
   },
   "outputs": [
    {
     "name": "stdout",
     "output_type": "stream",
     "text": [
      "Intervalos de confianza simultaneos:\n",
      "x_1: [ 76.214 , 114.826 ]\n",
      "x_2: [ 155.304 , 173.456 ]\n",
      "x_3: [ 51.167 , 60.213 ]\n",
      "x_4: [ 86.028 , 100.752 ]\n",
      "x_5: [ 16.914 , 19.046 ]\n",
      "x_6: [ 29.572 , 32.688 ]\n"
     ]
    },
    {
     "data": {
      "image/png": "[encoded data removed]",
      "text/plain": [
       "<Figure size 432x288 with 1 Axes>"
      ]
     },
     "metadata": {
      "tags": []
     },
     "output_type": "display_data"
    }
   ],
   "source": [
    "#Inciso f.d)\n",
    "n = 61\n",
    "p = len(x_mean)\n",
    "alpha = 0.05\n",
    "T = norm.ppf(q=1-(alpha)/(2*p))\n",
    "#Inciso e)\n",
    "print(\"Intervalos de confianza simultaneos:\")\n",
    "for i in range(p):\n",
    "  print(\"x_\"+str(i+1)+\":\",\"[\",round(x_mean[i]-np.sqrt(Sigma[i,i]/n)*T,3),\",\",round(x_mean[i]+np.sqrt(Sigma[i,i]/n)*T,3),\"]\")\n",
    "\n",
    "contorno = ((x_mean[0]-mu1)*np.cos(theta) + (x_mean[3]-mu2)*np.sin(theta))**2/semi1**2 + ((x_mean[0]-mu1)*np.sin(theta) - (x_mean[3]-mu2)*np.cos(theta))**2/semi2**2 -1\n",
    "\n",
    "plt.contour(mu1,mu2,contorno,0)\n",
    "plt.plot(x_mean[0], x_mean[3], marker='o', markersize=3, color=\"red\")\n",
    "plt.axis('equal')\n",
    "plt.grid()\n",
    "\n",
    "m=6\n",
    "T = -t.ppf(q=1-(alpha)/(2*m), df=n-1)\n",
    "plt.axhline(y=x_mean[3]+np.sqrt(Sigma[3,3]/n)*T,color='#c24a2d',label=\"Bonferroni m=6\")\n",
    "plt.axhline(y=x_mean[3]-np.sqrt(Sigma[3,3]/n)*T,color='#c24a2d')\n",
    "plt.axvline(x=x_mean[0]+np.sqrt(Sigma[0,0]/n)*T,color='#c24a2d')\n",
    "plt.axvline(x=x_mean[0]-np.sqrt(Sigma[0,0]/n)*T,color='#c24a2d')\n",
    "\n",
    "#Inciso e)\n",
    "\n",
    "m=7\n",
    "T = -t.ppf(q=(1-alpha/(2*m)), df=n-1)\n",
    "plt.axhline(y=x_mean[3]+np.sqrt(Sigma[3,3]/n)*T,color='#167536',label=\"Bonferroni m=7\")\n",
    "plt.axhline(y=x_mean[3]-np.sqrt(Sigma[3,3]/n)*T,color='#167536')\n",
    "plt.axvline(x=x_mean[0]+np.sqrt(Sigma[0,0]/n)*T,color='#167536')\n",
    "plt.axvline(x=x_mean[0]-np.sqrt(Sigma[0,0]/n)*T,color='#167536')\n",
    "\n",
    "\n",
    "plt.xlabel(\"Weight\")\n",
    "plt.ylabel(\"Girth\")\n",
    "plt.legend(loc=\"best\",fontsize='medium')\n",
    "plt.savefig(\"3_fe.png\")\n",
    "plt.show()"
   ]
  },
  {
   "cell_type": "code",
   "execution_count": 58,
   "metadata": {
    "colab": {
     "base_uri": "https://localhost:8080/",
     "height": 195
    },
    "colab_type": "code",
    "id": "jmIeJwaesEsC",
    "outputId": "0bc98115-c34e-4b5d-9d2a-c806642f4cb6"
   },
   "outputs": [
    {
     "data": {
      "text/html": [
       "<div>\n",
       "<style scoped>\n",
       "    .dataframe tbody tr th:only-of-type {\n",
       "        vertical-align: middle;\n",
       "    }\n",
       "\n",
       "    .dataframe tbody tr th {\n",
       "        vertical-align: top;\n",
       "    }\n",
       "\n",
       "    .dataframe thead th {\n",
       "        text-align: right;\n",
       "    }\n",
       "</style>\n",
       "<table border=\"1\" class=\"dataframe\">\n",
       "  <thead>\n",
       "    <tr style=\"text-align: right;\">\n",
       "      <th></th>\n",
       "      <th>id</th>\n",
       "      <th>time</th>\n",
       "      <th>bitcoin</th>\n",
       "      <th>ethereum</th>\n",
       "      <th>ripple</th>\n",
       "      <th>bitcoin_cash</th>\n",
       "      <th>tether</th>\n",
       "      <th>litecoin</th>\n",
       "      <th>eos</th>\n",
       "      <th>binance_coin</th>\n",
       "      <th>bitcoin_sv</th>\n",
       "      <th>stellar</th>\n",
       "    </tr>\n",
       "  </thead>\n",
       "  <tbody>\n",
       "    <tr>\n",
       "      <th>0</th>\n",
       "      <td>25611</td>\n",
       "      <td>2020-02-06 00:00:05</td>\n",
       "      <td>9617.821045</td>\n",
       "      <td>204.129695</td>\n",
       "      <td>0.277542</td>\n",
       "      <td>442.341285</td>\n",
       "      <td>1.002153</td>\n",
       "      <td>72.532381</td>\n",
       "      <td>4.519347</td>\n",
       "      <td>19.229057</td>\n",
       "      <td>299.427525</td>\n",
       "      <td>0.068763</td>\n",
       "    </tr>\n",
       "    <tr>\n",
       "      <th>1</th>\n",
       "      <td>25612</td>\n",
       "      <td>2020-02-06 00:05:02</td>\n",
       "      <td>9622.748756</td>\n",
       "      <td>204.495108</td>\n",
       "      <td>0.277304</td>\n",
       "      <td>444.987897</td>\n",
       "      <td>1.001578</td>\n",
       "      <td>72.575367</td>\n",
       "      <td>4.524913</td>\n",
       "      <td>19.255650</td>\n",
       "      <td>302.021011</td>\n",
       "      <td>0.068806</td>\n",
       "    </tr>\n",
       "    <tr>\n",
       "      <th>2</th>\n",
       "      <td>25613</td>\n",
       "      <td>2020-02-06 00:10:03</td>\n",
       "      <td>9625.514188</td>\n",
       "      <td>204.514310</td>\n",
       "      <td>0.276689</td>\n",
       "      <td>444.458587</td>\n",
       "      <td>1.003492</td>\n",
       "      <td>72.359213</td>\n",
       "      <td>4.524040</td>\n",
       "      <td>19.246752</td>\n",
       "      <td>301.535034</td>\n",
       "      <td>0.068709</td>\n",
       "    </tr>\n",
       "    <tr>\n",
       "      <th>3</th>\n",
       "      <td>25614</td>\n",
       "      <td>2020-02-06 00:15:02</td>\n",
       "      <td>9611.570081</td>\n",
       "      <td>203.225257</td>\n",
       "      <td>0.274488</td>\n",
       "      <td>440.127172</td>\n",
       "      <td>1.005246</td>\n",
       "      <td>71.848529</td>\n",
       "      <td>4.486529</td>\n",
       "      <td>19.194388</td>\n",
       "      <td>299.469787</td>\n",
       "      <td>0.068280</td>\n",
       "    </tr>\n",
       "    <tr>\n",
       "      <th>4</th>\n",
       "      <td>25615</td>\n",
       "      <td>2020-02-06 00:20:02</td>\n",
       "      <td>9586.715700</td>\n",
       "      <td>202.745851</td>\n",
       "      <td>0.274458</td>\n",
       "      <td>438.460532</td>\n",
       "      <td>1.003008</td>\n",
       "      <td>71.608254</td>\n",
       "      <td>4.478681</td>\n",
       "      <td>19.139503</td>\n",
       "      <td>299.109861</td>\n",
       "      <td>0.068094</td>\n",
       "    </tr>\n",
       "  </tbody>\n",
       "</table>\n",
       "</div>"
      ],
      "text/plain": [
       "      id                 time      bitcoin  ...  binance_coin  bitcoin_sv   stellar\n",
       "0  25611  2020-02-06 00:00:05  9617.821045  ...     19.229057  299.427525  0.068763\n",
       "1  25612  2020-02-06 00:05:02  9622.748756  ...     19.255650  302.021011  0.068806\n",
       "2  25613  2020-02-06 00:10:03  9625.514188  ...     19.246752  301.535034  0.068709\n",
       "3  25614  2020-02-06 00:15:02  9611.570081  ...     19.194388  299.469787  0.068280\n",
       "4  25615  2020-02-06 00:20:02  9586.715700  ...     19.139503  299.109861  0.068094\n",
       "\n",
       "[5 rows x 12 columns]"
      ]
     },
     "execution_count": 58,
     "metadata": {
      "tags": []
     },
     "output_type": "execute_result"
    }
   ],
   "source": [
    "#Ejercicio 4\n",
    "import pandas as pd\n",
    "from datetime import datetime\n",
    "\n",
    "df = pd.read_csv(io.StringIO(uploaded['crypto_data.csv'].decode('utf-8')))\n",
    "df.head()"
   ]
  },
  {
   "cell_type": "code",
   "execution_count": 174,
   "metadata": {
    "colab": {
     "base_uri": "https://localhost:8080/",
     "height": 195
    },
    "colab_type": "code",
    "id": "sxrGLYX1Qj5y",
    "outputId": "76d362b7-fcc2-465a-e5ab-3dd108eb4862"
   },
   "outputs": [
    {
     "data": {
      "text/html": [
       "<div>\n",
       "<style scoped>\n",
       "    .dataframe tbody tr th:only-of-type {\n",
       "        vertical-align: middle;\n",
       "    }\n",
       "\n",
       "    .dataframe tbody tr th {\n",
       "        vertical-align: top;\n",
       "    }\n",
       "\n",
       "    .dataframe thead th {\n",
       "        text-align: right;\n",
       "    }\n",
       "</style>\n",
       "<table border=\"1\" class=\"dataframe\">\n",
       "  <thead>\n",
       "    <tr style=\"text-align: right;\">\n",
       "      <th></th>\n",
       "      <th>id</th>\n",
       "      <th>time</th>\n",
       "      <th>bitcoin</th>\n",
       "      <th>ethereum</th>\n",
       "      <th>ripple</th>\n",
       "      <th>bitcoin_cash</th>\n",
       "      <th>tether</th>\n",
       "      <th>litecoin</th>\n",
       "      <th>eos</th>\n",
       "      <th>binance_coin</th>\n",
       "      <th>bitcoin_sv</th>\n",
       "      <th>stellar</th>\n",
       "      <th>FECHA</th>\n",
       "      <th>Fecha</th>\n",
       "      <th>Hour</th>\n",
       "    </tr>\n",
       "  </thead>\n",
       "  <tbody>\n",
       "    <tr>\n",
       "      <th>0</th>\n",
       "      <td>25611</td>\n",
       "      <td>2020-02-06 00:00:05</td>\n",
       "      <td>9617.821045</td>\n",
       "      <td>204.129695</td>\n",
       "      <td>0.277542</td>\n",
       "      <td>442.341285</td>\n",
       "      <td>1.002153</td>\n",
       "      <td>72.532381</td>\n",
       "      <td>4.519347</td>\n",
       "      <td>19.229057</td>\n",
       "      <td>299.427525</td>\n",
       "      <td>0.068763</td>\n",
       "      <td>2020-02-06 00:00:05</td>\n",
       "      <td>2020-02-06</td>\n",
       "      <td>00:00:05</td>\n",
       "    </tr>\n",
       "    <tr>\n",
       "      <th>1</th>\n",
       "      <td>25612</td>\n",
       "      <td>2020-02-06 00:05:02</td>\n",
       "      <td>9622.748756</td>\n",
       "      <td>204.495108</td>\n",
       "      <td>0.277304</td>\n",
       "      <td>444.987897</td>\n",
       "      <td>1.001578</td>\n",
       "      <td>72.575367</td>\n",
       "      <td>4.524913</td>\n",
       "      <td>19.255650</td>\n",
       "      <td>302.021011</td>\n",
       "      <td>0.068806</td>\n",
       "      <td>2020-02-06 00:05:02</td>\n",
       "      <td>2020-02-06</td>\n",
       "      <td>00:05:02</td>\n",
       "    </tr>\n",
       "    <tr>\n",
       "      <th>2</th>\n",
       "      <td>25613</td>\n",
       "      <td>2020-02-06 00:10:03</td>\n",
       "      <td>9625.514188</td>\n",
       "      <td>204.514310</td>\n",
       "      <td>0.276689</td>\n",
       "      <td>444.458587</td>\n",
       "      <td>1.003492</td>\n",
       "      <td>72.359213</td>\n",
       "      <td>4.524040</td>\n",
       "      <td>19.246752</td>\n",
       "      <td>301.535034</td>\n",
       "      <td>0.068709</td>\n",
       "      <td>2020-02-06 00:10:03</td>\n",
       "      <td>2020-02-06</td>\n",
       "      <td>00:10:03</td>\n",
       "    </tr>\n",
       "    <tr>\n",
       "      <th>3</th>\n",
       "      <td>25614</td>\n",
       "      <td>2020-02-06 00:15:02</td>\n",
       "      <td>9611.570081</td>\n",
       "      <td>203.225257</td>\n",
       "      <td>0.274488</td>\n",
       "      <td>440.127172</td>\n",
       "      <td>1.005246</td>\n",
       "      <td>71.848529</td>\n",
       "      <td>4.486529</td>\n",
       "      <td>19.194388</td>\n",
       "      <td>299.469787</td>\n",
       "      <td>0.068280</td>\n",
       "      <td>2020-02-06 00:15:02</td>\n",
       "      <td>2020-02-06</td>\n",
       "      <td>00:15:02</td>\n",
       "    </tr>\n",
       "    <tr>\n",
       "      <th>4</th>\n",
       "      <td>25615</td>\n",
       "      <td>2020-02-06 00:20:02</td>\n",
       "      <td>9586.715700</td>\n",
       "      <td>202.745851</td>\n",
       "      <td>0.274458</td>\n",
       "      <td>438.460532</td>\n",
       "      <td>1.003008</td>\n",
       "      <td>71.608254</td>\n",
       "      <td>4.478681</td>\n",
       "      <td>19.139503</td>\n",
       "      <td>299.109861</td>\n",
       "      <td>0.068094</td>\n",
       "      <td>2020-02-06 00:20:02</td>\n",
       "      <td>2020-02-06</td>\n",
       "      <td>00:20:02</td>\n",
       "    </tr>\n",
       "  </tbody>\n",
       "</table>\n",
       "</div>"
      ],
      "text/plain": [
       "      id                 time  ...       Fecha      Hour\n",
       "0  25611  2020-02-06 00:00:05  ...  2020-02-06  00:00:05\n",
       "1  25612  2020-02-06 00:05:02  ...  2020-02-06  00:05:02\n",
       "2  25613  2020-02-06 00:10:03  ...  2020-02-06  00:10:03\n",
       "3  25614  2020-02-06 00:15:02  ...  2020-02-06  00:15:02\n",
       "4  25615  2020-02-06 00:20:02  ...  2020-02-06  00:20:02\n",
       "\n",
       "[5 rows x 15 columns]"
      ]
     },
     "execution_count": 174,
     "metadata": {
      "tags": []
     },
     "output_type": "execute_result"
    }
   ],
   "source": [
    "#Función para cambiarle la fecha\n",
    "def formato_fecha(df):\n",
    "  df[\"FECHA\"]=[datetime.strptime(str(x),'%Y-%m-%d %H:%M:%S') for x in (df.time)]\n",
    "  # df[\"AÑO\"]=df[\"FECHA\"].dt.year-2000\n",
    "  # df[\"MES\"]=df[\"FECHA\"].dt.month\n",
    "  # df[\"DIA\"]=df[\"FECHA\"].dt.weekday\n",
    "  # df[\"HORA\"]=df[\"FECHA\"].dt.hour\n",
    "  # df[\"MINUTOS\"]=df[\"FECHA\"].dt.minute\n",
    "  # df[\"SEGUNDOS\"]=df[\"FECHA\"].dt.second\n",
    "  df[\"Fecha\"]=df[\"FECHA\"].dt.date\n",
    "  df[\"Hour\"]=df[\"FECHA\"].dt.time\n",
    "\n",
    "formato_fecha(df)\n",
    "df.head()"
   ]
  },
  {
   "cell_type": "code",
   "execution_count": 288,
   "metadata": {
    "colab": {
     "base_uri": "https://localhost:8080/",
     "height": 34
    },
    "colab_type": "code",
    "id": "VYEd4VCHnhWc",
    "outputId": "c8840742-5288-44fa-e5d8-ecc071975ff2"
   },
   "outputs": [
    {
     "name": "stdout",
     "output_type": "stream",
     "text": [
      "Limite de control:  19.2522286202812\n"
     ]
    }
   ],
   "source": [
    "X=df.loc[(df[\"Fecha\"]==df[\"Fecha\"][0])][[\"bitcoin\",\t\"ethereum\",\t\"ripple\",\t\"bitcoin_cash\",\t\"tether\",\t\"litecoin\",\t\"eos\",\t\"binance_coin\",\t\"bitcoin_sv\",\t\"stellar\"]]\n",
    "Y=df.loc[(df[\"Fecha\"]!=df[\"Fecha\"][0])][[\"bitcoin\",\t\"ethereum\",\t\"ripple\",\t\"bitcoin_cash\",\t\"tether\",\t\"litecoin\",\t\"eos\",\t\"binance_coin\",\t\"bitcoin_sv\",\t\"stellar\"]]\n",
    "\n",
    "# Mean and Covarinza matrix\n",
    "Xb = np.mean(X,0)\n",
    "S = np.cov(np.transpose(X))\n",
    "invS = np.linalg.inv(S)\n",
    "\n",
    "### Calcular estadístico\n",
    "n = np.shape(X)[0]\n",
    "p = np.shape(Y)[1]\n",
    "\n",
    "#Limite de control\n",
    "alpha = 0.05\n",
    "F = f.ppf(q=1.-alpha, dfn=p, dfd=n-p)\n",
    "LC = 1.0*(n-1)*p/(n-p)*F \n",
    "print (\"Limite de control: \", LC)\n",
    "Y=Y.to_numpy()\n",
    "# Estadístico T2 para cada día i\n",
    "futuras = np.shape(Y)[0]\n",
    "T2 = 0\n",
    "T2vec = []\n",
    "step = []\n",
    "i = 0\n",
    "while(T2 <= LC and  i<= futuras):\n",
    "  #print(Y[i,:])\n",
    "  T2 = (1.0*n)/(n+1)*np.matmul(np.matmul((Y[i,:] - Xb), invS),np.transpose(Y[i,:]-Xb))\n",
    "  T2vec.append(T2)\n",
    "  step.append(i+1)\n",
    "  i += 1"
   ]
  },
  {
   "cell_type": "code",
   "execution_count": 289,
   "metadata": {
    "colab": {
     "base_uri": "https://localhost:8080/",
     "height": 285
    },
    "colab_type": "code",
    "id": "Sq45t6qqh9G1",
    "outputId": "e824131b-4acf-4c65-d950-08c8812503b1"
   },
   "outputs": [
    {
     "data": {
      "image/png": "[encoded data removed]",
      "text/plain": [
       "<Figure size 432x288 with 1 Axes>"
      ]
     },
     "metadata": {
      "tags": []
     },
     "output_type": "display_data"
    }
   ],
   "source": [
    "import matplotlib.pyplot as plt\n",
    "plt.plot(step[0:(i)],T2vec[0:(i)],'-*g')\n",
    "plt.axhline(y=LC, color='r', linestyle='--')\n",
    "\n",
    "if (i <= dias ):\n",
    "    plt.plot(i,T2,'ob')\n",
    "\n",
    "aux=df.loc[(df[\"Fecha\"]!=df[\"Fecha\"][0])][\"Hour\"].to_numpy()\n",
    "plt.xticks(np.arange(i), aux[0:i])\n",
    "plt.xticks(rotation=35)\n",
    "plt.savefig(\"4_a.png\")"
   ]
  },
  {
   "cell_type": "code",
   "execution_count": 0,
   "metadata": {
    "colab": {},
    "colab_type": "code",
    "id": "6HpeucMwk4Nm"
   },
   "outputs": [],
   "source": [
    "X=df.loc[(df[\"Fecha\"]==df[\"Fecha\"][0])][[\"bitcoin\",\t\"ethereum\",\t\"ripple\",\t\"bitcoin_cash\",\t\"tether\",\t\"litecoin\",\t\"eos\",\t\"binance_coin\",\t\"bitcoin_sv\",\t\"stellar\"]]\n",
    "Y=df.loc[(df[\"Fecha\"]!=df[\"Fecha\"][0])][[\"bitcoin\",\t\"ethereum\",\t\"ripple\",\t\"bitcoin_cash\",\t\"tether\",\t\"litecoin\",\t\"eos\",\t\"binance_coin\",\t\"bitcoin_sv\",\t\"stellar\"]]\n",
    "aux=df.loc[(df[\"Fecha\"]!=df[\"Fecha\"][0])][\"FECHA\"]\n",
    "Y=Y.to_numpy()\n",
    "X=X.to_numpy()"
   ]
  },
  {
   "cell_type": "code",
   "execution_count": 0,
   "metadata": {
    "colab": {},
    "colab_type": "code",
    "id": "5Z3RsH-mttdJ"
   },
   "outputs": [],
   "source": [
    "#Reshaping X y Y\n",
    "X_aux=np.zeros((int(np.shape(X)[0]/12), np.shape(X)[1]))\n",
    "for j in range(int(np.shape(X)[0]/12)):\n",
    "  for i in range(np.shape(X)[1]):\n",
    "    X_aux[j,i]=X[j:j+11,i].mean()\n",
    "  j=j+11\n",
    "\n",
    "\n",
    "Y_aux=np.zeros((int(np.shape(Y)[0]/12), np.shape(Y)[1]))\n",
    "for j in range(int(np.shape(Y)[0]/12)):\n",
    "  for i in range(np.shape(Y)[1]):\n",
    "    Y_aux[j,i]=Y[j:j+11,i].mean()\n",
    "  j=j+11\n",
    "\n"
   ]
  },
  {
   "cell_type": "code",
   "execution_count": 309,
   "metadata": {
    "colab": {
     "base_uri": "https://localhost:8080/",
     "height": 34
    },
    "colab_type": "code",
    "id": "yu4wKIxjTVuN",
    "outputId": "01359b57-8993-43a3-f0a7-a4fbb4fcffba"
   },
   "outputs": [
    {
     "name": "stdout",
     "output_type": "stream",
     "text": [
      "Limite de control:  18.39402161624606\n"
     ]
    }
   ],
   "source": [
    "Y=Y_aux\n",
    "# X=X_aux\n",
    "# Mean and Covarinza matrix\n",
    "Xb = np.mean(X,0)\n",
    "#S = (n-1)/(n*m)*np.cov(np.transpose(X))\n",
    "S = np.cov(np.transpose(X))\n",
    "invS = np.linalg.inv(S)\n",
    "\n",
    "### Calcular estadístico\n",
    "n = np.shape(X)[0]\n",
    "p = np.shape(Y)[1]\n",
    "\n",
    "#Limite de control\n",
    "alpha = 0.05\n",
    "F = f.ppf(q=1-alpha, dfn=p, dfd=n*m-n-p+1)\n",
    "LC = 1.0*(n-1)*(m-1)*p/(n*m-n-p+1)*F \n",
    "print (\"Limite de control: \", LC)\n",
    "#Y=Y.to_numpy()\n",
    "\n",
    "# Estadístico T2 para cada día i\n",
    "futuras = np.shape(Y)[0]\n",
    "T2 = 0\n",
    "T2vec = []\n",
    "step = []\n",
    "i = 0\n",
    "while(T2 <= LC and  i<= futuras):\n",
    "  #print(Y[i,:])\n",
    "  T2 = (1.0*n)/(n+1)*np.matmul(np.matmul((Y[i,:] - Xb), invS),np.transpose(Y[i,:]-Xb))\n",
    "  T2vec.append(T2)\n",
    "  step.append(i+1)\n",
    "  i += 1"
   ]
  },
  {
   "cell_type": "code",
   "execution_count": 311,
   "metadata": {
    "colab": {
     "base_uri": "https://localhost:8080/",
     "height": 265
    },
    "colab_type": "code",
    "id": "B1jFPSBJT-g4",
    "outputId": "9302f6c1-9bc8-42bc-b252-c3b8f19aef6a"
   },
   "outputs": [
    {
     "data": {
      "image/png": "[encoded data removed]",
      "text/plain": [
       "<Figure size 432x288 with 1 Axes>"
      ]
     },
     "metadata": {
      "tags": []
     },
     "output_type": "display_data"
    }
   ],
   "source": [
    "plt.plot(step[0:(i)],T2vec[0:(i)],'-*g')\n",
    "plt.axhline(y=LC, color='r', linestyle='--')\n",
    "\n",
    "if (i <= dias ):\n",
    "    plt.plot(i,T2,'ob')\n",
    "\n",
    "aux=df.loc[(df[\"Fecha\"]!=df[\"Fecha\"][0])][\"Hour\"].to_numpy()\n",
    "plt.savefig(\"4_b.png\")"
   ]
  },
  {
   "cell_type": "code",
   "execution_count": 0,
   "metadata": {
    "colab": {},
    "colab_type": "code",
    "id": "gb9-sNAmUD6a"
   },
   "outputs": [],
   "source": []
  },
  {
   "cell_type": "code",
   "execution_count": 0,
   "metadata": {
    "colab": {},
    "colab_type": "code",
    "id": "9HvPa7mmdPy4"
   },
   "outputs": [],
   "source": []
  },
  {
   "cell_type": "code",
   "execution_count": 209,
   "metadata": {
    "colab": {
     "base_uri": "https://localhost:8080/",
     "height": 84
    },
    "colab_type": "code",
    "id": "fIJB5Ev4dWNK",
    "outputId": "106f8a89-b2b1-443a-d82b-39e0dbc83ef1"
   },
   "outputs": [
    {
     "data": {
      "text/plain": [
       "array([datetime.date(2020, 2, 7), datetime.date(2020, 2, 7),\n",
       "       datetime.date(2020, 2, 7), ..., datetime.date(2020, 2, 11),\n",
       "       datetime.date(2020, 2, 11), datetime.date(2020, 2, 11)],\n",
       "      dtype=object)"
      ]
     },
     "execution_count": 209,
     "metadata": {
      "tags": []
     },
     "output_type": "execute_result"
    }
   ],
   "source": [
    "label"
   ]
  },
  {
   "cell_type": "code",
   "execution_count": 0,
   "metadata": {
    "colab": {},
    "colab_type": "code",
    "id": "mOgps6GldXYU"
   },
   "outputs": [],
   "source": []
  }
 ],
 "metadata": {
  "colab": {
   "collapsed_sections": [],
   "name": "T4_javier.carrillo.ipynb",
   "provenance": []
  },
  "kernelspec": {
   "display_name": "Python 3",
   "language": "python",
   "name": "python3"
  },
  "language_info": {
   "codemirror_mode": {
    "name": "ipython",
    "version": 3
   },
   "file_extension": ".py",
   "mimetype": "text/x-python",
   "name": "python",
   "nbconvert_exporter": "python",
   "pygments_lexer": "ipython3",
   "version": "3.7.4"
  }
 },
 "nbformat": 4,
 "nbformat_minor": 1
}
